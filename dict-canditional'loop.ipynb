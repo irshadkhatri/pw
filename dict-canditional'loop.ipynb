{
 "cells": [
  {
   "cell_type": "code",
   "execution_count": 5,
   "id": "db734dea-2507-44bf-9ea8-c99ba1cfbdc0",
   "metadata": {},
   "outputs": [],
   "source": [
    "d ={}"
   ]
  },
  {
   "cell_type": "code",
   "execution_count": 6,
   "id": "70b5911b-ac4d-4638-8bef-e51fe6258fd5",
   "metadata": {},
   "outputs": [
    {
     "data": {
      "text/plain": [
       "dict"
      ]
     },
     "execution_count": 6,
     "metadata": {},
     "output_type": "execute_result"
    }
   ],
   "source": [
    "type(d)"
   ]
  },
  {
   "cell_type": "code",
   "execution_count": 7,
   "id": "9f452e8a-0905-4b13-b867-338c0c1b8cab",
   "metadata": {},
   "outputs": [],
   "source": [
    "d1={'key':\"irshad\"}"
   ]
  },
  {
   "cell_type": "code",
   "execution_count": 8,
   "id": "2f486639-bf6e-4a18-a81c-8583a5e7e8e0",
   "metadata": {},
   "outputs": [
    {
     "data": {
      "text/plain": [
       "{'key': 'irshad'}"
      ]
     },
     "execution_count": 8,
     "metadata": {},
     "output_type": "execute_result"
    }
   ],
   "source": [
    "d1"
   ]
  },
  {
   "cell_type": "code",
   "execution_count": 9,
   "id": "0e93e117-6aec-4ce8-b23e-c3e57aca821d",
   "metadata": {},
   "outputs": [],
   "source": [
    "d2={'name':\"irshad\",\"email\":'infoirshadkhatri@gmail.com',\"number\":8393979668}"
   ]
  },
  {
   "cell_type": "code",
   "execution_count": 10,
   "id": "9b304ac1-2cdc-4138-be88-da9a7158e556",
   "metadata": {},
   "outputs": [
    {
     "data": {
      "text/plain": [
       "{'name': 'irshad', 'email': 'infoirshadkhatri@gmail.com', 'number': 8393979668}"
      ]
     },
     "execution_count": 10,
     "metadata": {},
     "output_type": "execute_result"
    }
   ],
   "source": [
    "d2"
   ]
  },
  {
   "cell_type": "code",
   "execution_count": 12,
   "id": "7e269bc9-9f0e-4ca4-b196-1adfa3291ade",
   "metadata": {},
   "outputs": [],
   "source": [
    "d3={123:\"irt\",'_wer':34, True:321}"
   ]
  },
  {
   "cell_type": "code",
   "execution_count": 14,
   "id": "76a66dc9-02e9-4be4-939a-3b2c19b0a122",
   "metadata": {},
   "outputs": [
    {
     "data": {
      "text/plain": [
       "321"
      ]
     },
     "execution_count": 14,
     "metadata": {},
     "output_type": "execute_result"
    }
   ],
   "source": [
    "d3[1]"
   ]
  },
  {
   "cell_type": "code",
   "execution_count": 1,
   "id": "3b89aca0-876f-497f-a9d4-c902c0da2793",
   "metadata": {},
   "outputs": [],
   "source": [
    "d4 ={'name':'ird','mail_id':'irt@gmail.com', 'name':\"irshad\"}"
   ]
  },
  {
   "cell_type": "code",
   "execution_count": 2,
   "id": "6b23e85a-b5f0-468c-8abd-2aaf2f0d96e2",
   "metadata": {},
   "outputs": [
    {
     "data": {
      "text/plain": [
       "{'name': 'irshad', 'mail_id': 'irt@gmail.com'}"
      ]
     },
     "execution_count": 2,
     "metadata": {},
     "output_type": "execute_result"
    }
   ],
   "source": [
    "d4"
   ]
  },
  {
   "cell_type": "code",
   "execution_count": 3,
   "id": "d1b4bee9-7d1e-4fe0-a0d6-b21a7462c3c1",
   "metadata": {},
   "outputs": [
    {
     "data": {
      "text/plain": [
       "'irshad'"
      ]
     },
     "execution_count": 3,
     "metadata": {},
     "output_type": "execute_result"
    }
   ],
   "source": [
    "d4['name']"
   ]
  },
  {
   "cell_type": "code",
   "execution_count": 4,
   "id": "7d2cf9bf-e788-4a52-a9ff-fea97ccbd984",
   "metadata": {},
   "outputs": [],
   "source": [
    "d5 ={\"comny\":\"pw skill\", 'courses':['web dev','data science','java with dsa']}"
   ]
  },
  {
   "cell_type": "code",
   "execution_count": 5,
   "id": "7b11e1e4-17ae-4a52-89d9-daf54ac476f6",
   "metadata": {},
   "outputs": [
    {
     "data": {
      "text/plain": [
       "{'comny': 'pw skill', 'courses': ['web dev', 'data science', 'java with dsa']}"
      ]
     },
     "execution_count": 5,
     "metadata": {},
     "output_type": "execute_result"
    }
   ],
   "source": [
    "d5"
   ]
  },
  {
   "cell_type": "code",
   "execution_count": 6,
   "id": "2f9d039a-0ff7-4375-977e-dee4e8e6c63f",
   "metadata": {},
   "outputs": [
    {
     "data": {
      "text/plain": [
       "['web dev', 'data science', 'java with dsa']"
      ]
     },
     "execution_count": 6,
     "metadata": {},
     "output_type": "execute_result"
    }
   ],
   "source": [
    "d5['courses']"
   ]
  },
  {
   "cell_type": "code",
   "execution_count": 7,
   "id": "9d953021-161f-485f-880c-4dbb9332e9dd",
   "metadata": {},
   "outputs": [
    {
     "data": {
      "text/plain": [
       "'java with dsa'"
      ]
     },
     "execution_count": 7,
     "metadata": {},
     "output_type": "execute_result"
    }
   ],
   "source": [
    "d5['courses'][2]"
   ]
  },
  {
   "cell_type": "code",
   "execution_count": 10,
   "id": "63236af4-f5f8-4bd3-85d1-7b529ce5bf7e",
   "metadata": {},
   "outputs": [],
   "source": [
    "d6={'number':[1,45,30],\"assingnment\":(1,2,3,4,5),\"launch_Date\":{28,12,13},\"class_time\":{'web_dev':8,'data_science':9,\"java\":7}}"
   ]
  },
  {
   "cell_type": "code",
   "execution_count": 11,
   "id": "c60345d2-5efb-4c0b-a7fa-3448c21b5589",
   "metadata": {},
   "outputs": [
    {
     "data": {
      "text/plain": [
       "{'number': [1, 45, 30],\n",
       " 'assingnment': (1, 2, 3, 4, 5),\n",
       " 'launch_Date': {12, 13, 28},\n",
       " 'class_time': {'web_dev': 8, 'data_science': 9, 'java': 7}}"
      ]
     },
     "execution_count": 11,
     "metadata": {},
     "output_type": "execute_result"
    }
   ],
   "source": [
    "d6"
   ]
  },
  {
   "cell_type": "code",
   "execution_count": 13,
   "id": "61a9f0e5-a228-4a17-9fd4-95bc4ad9a243",
   "metadata": {},
   "outputs": [
    {
     "data": {
      "text/plain": [
       "{'web_dev': 8, 'data_science': 9, 'java': 7}"
      ]
     },
     "execution_count": 13,
     "metadata": {},
     "output_type": "execute_result"
    }
   ],
   "source": [
    "d6['class_time']"
   ]
  },
  {
   "cell_type": "code",
   "execution_count": 14,
   "id": "4aa45d30-ea78-4165-b794-70618545a45c",
   "metadata": {},
   "outputs": [
    {
     "data": {
      "text/plain": [
       "7"
      ]
     },
     "execution_count": 14,
     "metadata": {},
     "output_type": "execute_result"
    }
   ],
   "source": [
    "d6['class_time']['java']"
   ]
  },
  {
   "cell_type": "code",
   "execution_count": 15,
   "id": "da60d5c0-e487-4b77-a247-3ddf778cb68c",
   "metadata": {},
   "outputs": [],
   "source": [
    "d6['mentor'] = ['sudhanshu','krish','hyder']"
   ]
  },
  {
   "cell_type": "code",
   "execution_count": 16,
   "id": "2717c447-0e93-4a0b-9a78-306de75cfdfd",
   "metadata": {},
   "outputs": [
    {
     "data": {
      "text/plain": [
       "{'number': [1, 45, 30],\n",
       " 'assingnment': (1, 2, 3, 4, 5),\n",
       " 'launch_Date': {12, 13, 28},\n",
       " 'class_time': {'web_dev': 8, 'data_science': 9, 'java': 7},\n",
       " 'mentor': ['sudhanshu', 'krish', 'hyder']}"
      ]
     },
     "execution_count": 16,
     "metadata": {},
     "output_type": "execute_result"
    }
   ],
   "source": [
    "d6"
   ]
  },
  {
   "cell_type": "code",
   "execution_count": 17,
   "id": "15f1999e-e216-49c4-b8d0-746503e44c03",
   "metadata": {},
   "outputs": [],
   "source": [
    "d6['mentor']=['irshad']"
   ]
  },
  {
   "cell_type": "code",
   "execution_count": 18,
   "id": "10871353-0f13-4397-8953-d2226802a8f9",
   "metadata": {},
   "outputs": [
    {
     "data": {
      "text/plain": [
       "{'number': [1, 45, 30],\n",
       " 'assingnment': (1, 2, 3, 4, 5),\n",
       " 'launch_Date': {12, 13, 28},\n",
       " 'class_time': {'web_dev': 8, 'data_science': 9, 'java': 7},\n",
       " 'mentor': ['irshad']}"
      ]
     },
     "execution_count": 18,
     "metadata": {},
     "output_type": "execute_result"
    }
   ],
   "source": [
    "d6"
   ]
  },
  {
   "cell_type": "code",
   "execution_count": 19,
   "id": "87912f4e-b3c9-4cee-b5f7-b3c560d7b863",
   "metadata": {},
   "outputs": [],
   "source": [
    "del d6['number']"
   ]
  },
  {
   "cell_type": "code",
   "execution_count": 20,
   "id": "53b99c93-ade4-4c83-869b-397a14c2cf21",
   "metadata": {},
   "outputs": [
    {
     "data": {
      "text/plain": [
       "{'assingnment': (1, 2, 3, 4, 5),\n",
       " 'launch_Date': {12, 13, 28},\n",
       " 'class_time': {'web_dev': 8, 'data_science': 9, 'java': 7},\n",
       " 'mentor': ['irshad']}"
      ]
     },
     "execution_count": 20,
     "metadata": {},
     "output_type": "execute_result"
    }
   ],
   "source": [
    "d6"
   ]
  },
  {
   "cell_type": "code",
   "execution_count": 21,
   "id": "08538a72-6d2e-42cd-a2eb-fa25228b1010",
   "metadata": {},
   "outputs": [
    {
     "data": {
      "text/plain": [
       "dict_keys(['assingnment', 'launch_Date', 'class_time', 'mentor'])"
      ]
     },
     "execution_count": 21,
     "metadata": {},
     "output_type": "execute_result"
    }
   ],
   "source": [
    "d6.keys()"
   ]
  },
  {
   "cell_type": "code",
   "execution_count": 22,
   "id": "a6a759ac-f872-44c6-af37-1dceafe0cc13",
   "metadata": {},
   "outputs": [
    {
     "data": {
      "text/plain": [
       "['assingnment', 'launch_Date', 'class_time', 'mentor']"
      ]
     },
     "execution_count": 22,
     "metadata": {},
     "output_type": "execute_result"
    }
   ],
   "source": [
    "list(d6.keys())"
   ]
  },
  {
   "cell_type": "code",
   "execution_count": 23,
   "id": "dd8edd96-01b9-4b92-91e5-0234aa7ca148",
   "metadata": {},
   "outputs": [
    {
     "data": {
      "text/plain": [
       "dict_values([(1, 2, 3, 4, 5), {12, 28, 13}, {'web_dev': 8, 'data_science': 9, 'java': 7}, ['irshad']])"
      ]
     },
     "execution_count": 23,
     "metadata": {},
     "output_type": "execute_result"
    }
   ],
   "source": [
    "d6.values()"
   ]
  },
  {
   "cell_type": "code",
   "execution_count": 24,
   "id": "0d54eae2-9c63-4307-854d-526fe1466a6f",
   "metadata": {},
   "outputs": [
    {
     "data": {
      "text/plain": [
       "dict_items([('assingnment', (1, 2, 3, 4, 5)), ('launch_Date', {12, 28, 13}), ('class_time', {'web_dev': 8, 'data_science': 9, 'java': 7}), ('mentor', ['irshad'])])"
      ]
     },
     "execution_count": 24,
     "metadata": {},
     "output_type": "execute_result"
    }
   ],
   "source": [
    "d6.items()"
   ]
  },
  {
   "cell_type": "code",
   "execution_count": 25,
   "id": "ff0dbe02-47da-4b50-a5bc-70877cd4679b",
   "metadata": {},
   "outputs": [
    {
     "data": {
      "text/plain": [
       "[('assingnment', (1, 2, 3, 4, 5)),\n",
       " ('launch_Date', {12, 13, 28}),\n",
       " ('class_time', {'web_dev': 8, 'data_science': 9, 'java': 7}),\n",
       " ('mentor', ['irshad'])]"
      ]
     },
     "execution_count": 25,
     "metadata": {},
     "output_type": "execute_result"
    }
   ],
   "source": [
    "list(d6.items())"
   ]
  },
  {
   "cell_type": "code",
   "execution_count": 27,
   "id": "4b22c8a9-d68f-4c61-87fb-0418f039f4b8",
   "metadata": {},
   "outputs": [
    {
     "data": {
      "text/plain": [
       "(1, 2, 3, 4, 5)"
      ]
     },
     "execution_count": 27,
     "metadata": {},
     "output_type": "execute_result"
    }
   ],
   "source": [
    "d6.pop('assingnment')"
   ]
  },
  {
   "cell_type": "code",
   "execution_count": 28,
   "id": "d531003c-f444-4fd9-863c-291f9e510b5b",
   "metadata": {},
   "outputs": [
    {
     "data": {
      "text/plain": [
       "{'launch_Date': {12, 13, 28},\n",
       " 'class_time': {'web_dev': 8, 'data_science': 9, 'java': 7},\n",
       " 'mentor': ['irshad']}"
      ]
     },
     "execution_count": 28,
     "metadata": {},
     "output_type": "execute_result"
    }
   ],
   "source": [
    "d6"
   ]
  },
  {
   "cell_type": "code",
   "execution_count": 23,
   "id": "d02d81f0-d646-48e8-84ab-e9653490977f",
   "metadata": {},
   "outputs": [
    {
     "name": "stdin",
     "output_type": "stream",
     "text": [
      "enter your marks 41\n"
     ]
    },
    {
     "name": "stdout",
     "output_type": "stream",
     "text": [
      " you will be apart of A2 batch\n"
     ]
    }
   ],
   "source": [
    "marks = int(input(\"enter your marks\"))\n",
    "if marks >=80 :\n",
    "    print(\" you will be a part of A0 batch\")\n",
    "elif marks>=60 and marks<80:\n",
    "    print(\" you will be a part of A1 batch\")\n",
    "elif marks>=40 and marks <60:\n",
    "    print(' you will be apart of A2 batch')\n",
    "else:\n",
    "    print(\"you will be apart of a A3 batch\")\n",
    "    "
   ]
  },
  {
   "cell_type": "code",
   "execution_count": 17,
   "id": "6e3ce514-45bd-40a3-8ecd-9f5fd4ee0e32",
   "metadata": {},
   "outputs": [
    {
     "name": "stdin",
     "output_type": "stream",
     "text": [
      " 67\n"
     ]
    }
   ],
   "source": [
    "marks = int(input())"
   ]
  },
  {
   "cell_type": "code",
   "execution_count": 18,
   "id": "1278a85e-598a-4ac1-80ed-54cb4748fec8",
   "metadata": {},
   "outputs": [
    {
     "data": {
      "text/plain": [
       "int"
      ]
     },
     "execution_count": 18,
     "metadata": {},
     "output_type": "execute_result"
    }
   ],
   "source": [
    "type(marks)"
   ]
  },
  {
   "cell_type": "code",
   "execution_count": 23,
   "id": "715e6b91-8ae0-42f9-af76-352366b8ff1c",
   "metadata": {},
   "outputs": [
    {
     "name": "stdin",
     "output_type": "stream",
     "text": [
      "enter price 7000\n"
     ]
    },
    {
     "name": "stdout",
     "output_type": "stream",
     "text": [
      " iwill not purchese\n"
     ]
    }
   ],
   "source": [
    "price=int(input(\"enter price\"))\n",
    "if price >1000:\n",
    "          print(\" iwill not purchese\")\n",
    "else:\n",
    "          print(\"i will purchese\")\n",
    "          \n",
    "          "
   ]
  },
  {
   "cell_type": "code",
   "execution_count": 25,
   "id": "b16d3293-0b18-485c-ac16-b45b60dba01e",
   "metadata": {},
   "outputs": [
    {
     "name": "stdin",
     "output_type": "stream",
     "text": [
      "enter price 200\n"
     ]
    }
   ],
   "source": [
    "price=int(input(\"enter price\"))\n",
    "if price >1000:\n",
    "          print(\" iwill not purchese\")\n"
   ]
  },
  {
   "cell_type": "code",
   "execution_count": 1,
   "id": "5e2e92ff-9f1d-439c-9c5f-f21f9483a83f",
   "metadata": {},
   "outputs": [],
   "source": [
    "l = [1,2,3,4,5,6,7,8]"
   ]
  },
  {
   "cell_type": "code",
   "execution_count": 2,
   "id": "46eb7acd-9d31-444a-b3a8-43443faa7f1a",
   "metadata": {},
   "outputs": [
    {
     "name": "stdout",
     "output_type": "stream",
     "text": [
      "1\n",
      "2\n",
      "3\n",
      "4\n",
      "5\n",
      "6\n",
      "7\n",
      "8\n"
     ]
    }
   ],
   "source": [
    "for i in l:\n",
    "    print(i)"
   ]
  },
  {
   "cell_type": "code",
   "execution_count": 3,
   "id": "e29396c1-6d8d-4b66-9a05-a8c010550a1f",
   "metadata": {},
   "outputs": [
    {
     "name": "stdout",
     "output_type": "stream",
     "text": [
      "2\n",
      "3\n",
      "4\n",
      "5\n",
      "6\n",
      "7\n",
      "8\n",
      "9\n"
     ]
    }
   ],
   "source": [
    "for i in l:\n",
    "    print(i+1)"
   ]
  },
  {
   "cell_type": "code",
   "execution_count": 12,
   "id": "769cbd1a-ed26-4c19-8d38-0ebc1e4b4f11",
   "metadata": {},
   "outputs": [
    {
     "name": "stdout",
     "output_type": "stream",
     "text": [
      "2\n",
      "3\n",
      "4\n",
      "5\n",
      "6\n",
      "7\n",
      "8\n",
      "9\n"
     ]
    }
   ],
   "source": [
    "l1 =[]\n",
    "for i in l:\n",
    "    print(i+1)\n",
    "    l1.append(i+1)"
   ]
  },
  {
   "cell_type": "code",
   "execution_count": 9,
   "id": "845adcb4-fef9-4fd2-b112-63e79203f337",
   "metadata": {},
   "outputs": [
    {
     "data": {
      "text/plain": [
       "[2, 3, 4, 5, 6, 7, 8, 9]"
      ]
     },
     "execution_count": 9,
     "metadata": {},
     "output_type": "execute_result"
    }
   ],
   "source": [
    "l1"
   ]
  },
  {
   "cell_type": "code",
   "execution_count": 13,
   "id": "dd52feec-8c9f-4c1d-bf6f-bfa891bad4e5",
   "metadata": {},
   "outputs": [],
   "source": [
    "l = [\"sudh\",\"kumar\", \"pwskill\",\"course\"]"
   ]
  },
  {
   "cell_type": "code",
   "execution_count": 15,
   "id": "f67ddcd3-d3c3-4292-8fdd-883367e6d77e",
   "metadata": {},
   "outputs": [
    {
     "name": "stdout",
     "output_type": "stream",
     "text": [
      "sudh\n",
      "kumar\n",
      "pwskill\n",
      "course\n"
     ]
    }
   ],
   "source": [
    "for i in l:\n",
    "    print(i)"
   ]
  },
  {
   "cell_type": "code",
   "execution_count": 17,
   "id": "4a69e579-0b84-42dd-806c-05eb70bc5b4b",
   "metadata": {},
   "outputs": [
    {
     "name": "stdout",
     "output_type": "stream",
     "text": [
      "sudh\n",
      "kumar\n",
      "pwskill\n",
      "course\n"
     ]
    }
   ],
   "source": [
    "l1=[]\n",
    "for i in l:\n",
    "    print(i)\n",
    "    l1.append(i.upper())"
   ]
  },
  {
   "cell_type": "code",
   "execution_count": 18,
   "id": "a00e9ffb-6cce-4319-8098-e4482d21dc5c",
   "metadata": {},
   "outputs": [
    {
     "data": {
      "text/plain": [
       "['SUDH', 'KUMAR', 'PWSKILL', 'COURSE']"
      ]
     },
     "execution_count": 18,
     "metadata": {},
     "output_type": "execute_result"
    }
   ],
   "source": [
    "l1"
   ]
  },
  {
   "cell_type": "code",
   "execution_count": 13,
   "id": "8247caf4-2046-48fb-ab75-ad7641680eb7",
   "metadata": {},
   "outputs": [],
   "source": [
    "l = [1,2,3,4,4,\"irshad\", \"ahmad\", 234, 23.80,\"Abc\",45.7]"
   ]
  },
  {
   "cell_type": "code",
   "execution_count": 24,
   "id": "dbead82e-9df9-4e95-9b37-f24772d37957",
   "metadata": {},
   "outputs": [],
   "source": [
    "l_num = []\n",
    "l_str = []\n",
    "for i in l:\n",
    "    if type(i)==int or type(i)==float:\n",
    "        l_num.append(i)\n",
    "    else:\n",
    "         l_str.append(i)"
   ]
  },
  {
   "cell_type": "code",
   "execution_count": 25,
   "id": "a08ab7c1-ffc7-4134-aea7-57d87893a22c",
   "metadata": {},
   "outputs": [
    {
     "data": {
      "text/plain": [
       "[1, 2, 3, 4, 4, 234, 23.8, 45.7]"
      ]
     },
     "execution_count": 25,
     "metadata": {},
     "output_type": "execute_result"
    }
   ],
   "source": [
    "l_num"
   ]
  },
  {
   "cell_type": "code",
   "execution_count": 26,
   "id": "e25f4fca-1742-470b-a114-555bc8ddf867",
   "metadata": {},
   "outputs": [
    {
     "data": {
      "text/plain": [
       "['irshad', 'ahmad', 'Abc']"
      ]
     },
     "execution_count": 26,
     "metadata": {},
     "output_type": "execute_result"
    }
   ],
   "source": [
    "l_str"
   ]
  },
  {
   "cell_type": "code",
   "execution_count": 9,
   "id": "bbfa5ba7-d2da-48e6-b4a1-07c33c970c7a",
   "metadata": {},
   "outputs": [
    {
     "data": {
      "text/plain": [
       "[1, 2, 3, 4, 4, 'irshad', 'ahmad', 234, 23.8, 'Abc']"
      ]
     },
     "execution_count": 9,
     "metadata": {},
     "output_type": "execute_result"
    }
   ],
   "source": [
    "l"
   ]
  },
  {
   "cell_type": "code",
   "execution_count": null,
   "id": "9b1d3bb5-2cb7-4c30-9b33-b2eac418afc2",
   "metadata": {},
   "outputs": [],
   "source": []
  }
 ],
 "metadata": {
  "kernelspec": {
   "display_name": "Python 3 (ipykernel)",
   "language": "python",
   "name": "python3"
  },
  "language_info": {
   "codemirror_mode": {
    "name": "ipython",
    "version": 3
   },
   "file_extension": ".py",
   "mimetype": "text/x-python",
   "name": "python",
   "nbconvert_exporter": "python",
   "pygments_lexer": "ipython3",
   "version": "3.10.6"
  }
 },
 "nbformat": 4,
 "nbformat_minor": 5
}
